{
 "cells": [
  {
   "cell_type": "markdown",
   "id": "f89466cd-032a-42f1-b600-71f4a1e5bb44",
   "metadata": {
    "tags": []
   },
   "source": [
    "## ***Importações e verificação da versão do Python Kernel.***"
   ]
  },
  {
   "cell_type": "code",
   "execution_count": 1,
   "id": "7cd960c3-ce87-4347-b414-85fd96691817",
   "metadata": {},
   "outputs": [
    {
     "data": {
      "text/plain": [
       "'3.9.12'"
      ]
     },
     "execution_count": 1,
     "metadata": {},
     "output_type": "execute_result"
    }
   ],
   "source": [
    "import requests\n",
    "from time import sleep\n",
    "from bs4 import BeautifulSoup\n",
    "import pandas as pd\n",
    "from googletrans import Translator\n",
    "\n",
    "import platform\n",
    "platform.python_version()"
   ]
  },
  {
   "cell_type": "markdown",
   "id": "20b02133-60bf-4166-93bb-c052b96b547e",
   "metadata": {
    "tags": []
   },
   "source": [
    "### ***Listas Contendo a Estrutura do Dataset***"
   ]
  },
  {
   "cell_type": "code",
   "execution_count": 2,
   "id": "acdbd938-891a-492f-b84f-2a252408702e",
   "metadata": {},
   "outputs": [],
   "source": [
    "sintomas_malwares = []\n",
    "sintomas_adwares = []\n",
    "sintomas_spyware = []\n",
    "sintomas_phishing = []\n",
    "sintomas_ransomware = []"
   ]
  },
  {
   "cell_type": "markdown",
   "id": "660e1620-510e-42cc-a9ac-f9f4dbc68943",
   "metadata": {
    "tags": []
   },
   "source": [
    "### ***Listas das Categorias dos Malwares***"
   ]
  },
  {
   "cell_type": "code",
   "execution_count": 3,
   "id": "c1233594-055a-46af-a921-a874dd95bd31",
   "metadata": {},
   "outputs": [],
   "source": [
    "#Aqui vou criar todos as categorias das listas das linhas que serão adicionadas aos seus respectivos DataFrames\n",
    "lista_virus = []\n",
    "lista_spyware = []\n",
    "lista_adware = []\n",
    "lista_phishing = []\n",
    "lista_ransomware = []"
   ]
  },
  {
   "cell_type": "markdown",
   "id": "a241af7e-baeb-4c61-825b-9723f35c261b",
   "metadata": {
    "tags": []
   },
   "source": [
    "### ***Scripts of Scraping para a Busca das Informações***"
   ]
  },
  {
   "cell_type": "markdown",
   "id": "cc203d0e-b4b5-4cf9-96a4-3eac8dac5066",
   "metadata": {
    "jp-MarkdownHeadingCollapsed": true,
    "tags": []
   },
   "source": [
    "### ***Malware Geral***"
   ]
  },
  {
   "cell_type": "code",
   "execution_count": 4,
   "id": "49e39f73-a52d-4821-8d3c-827b5361f055",
   "metadata": {},
   "outputs": [],
   "source": [
    "#-------------------------------------------------------------------\n",
    "#limpando a lista de malwares antes de adicionar para garantir que só tenha a quantidade de sintomas corretos, se porventura\n",
    "#for rodado novamente o codígo e ficar com sintomas duplicados \n",
    "sintomas_malwares.clear()\n",
    "\n",
    "\n",
    "#-------------------------------------------------------------------\n",
    "#requisição e criação do objeto do tipo BeautifulSoup\n",
    "response = requests.get('https://www.malwarebytes.com/malware')\n",
    "content = response.text\n",
    "site = BeautifulSoup(content, 'html.parser')\n",
    "\n",
    "#-------------------------------------------------------------------\n",
    "#Tipo do Malware\n",
    "tipo_malicius_malware = site.find('h1', attrs={'class':'text-center'}).text\n",
    "\n",
    "#-------------------------------------------------------------------\n",
    "#procurei a coluna principal da notícia e coloquei na variável 'coluna_geral' para encontrar as demais informações\n",
    "coluna_geral = site.find('div', attrs={'class':'col-md-12 col-sm-10 col-restyling'})\n",
    "\n",
    "#-------------------------------------------------------------------\n",
    "#Buscando pelos sintomas dentro da principal coluna para capturar os dados para realizar análise se tem algum malware na sua máquina\n",
    "lista_sintomas = coluna_geral.find('ul', attrs={'type':'disc'})\n",
    "\n",
    "#-------------------------------------------------------------------\n",
    "#encontrando os sintomas dentro da coluna geral\n",
    "todos_sintomas_malware = lista_sintomas.findAll('b')\n",
    "\n",
    "#-------------------------------------------------------------------\n",
    "#pegando cada sintoma\n",
    "sintoma_01_malware = todos_sintomas_malware[0].text\n",
    "sintoma_02_malware = todos_sintomas_malware[1].text\n",
    "sintoma_03_malware = todos_sintomas_malware[2].text\n",
    "sintoma_04_malware = todos_sintomas_malware[3].text\n",
    "sintoma_05_malware = todos_sintomas_malware[4].text\n",
    "sintoma_06_malware = todos_sintomas_malware[5].text\n",
    "sintoma_07_malware = todos_sintomas_malware[6].text\n",
    "sintoma_08_malware = todos_sintomas_malware[7].text\n",
    "\n",
    "#-------------------------------------------------------------------"
   ]
  },
  {
   "cell_type": "markdown",
   "id": "c9aa5718-cd83-4aed-8fb7-4e1e04c95bc1",
   "metadata": {
    "jp-MarkdownHeadingCollapsed": true,
    "tags": []
   },
   "source": [
    "### ***Adware***"
   ]
  },
  {
   "cell_type": "code",
   "execution_count": 5,
   "id": "2ccb369c-dcc6-4aa3-bfa1-eca75eb50fd0",
   "metadata": {},
   "outputs": [],
   "source": [
    "#As explicações do código estão no bloco sobre Malware\n",
    "sintomas_adwares.clear()\n",
    "\n",
    "#-------------------------------------------------------------------\n",
    "response2 = requests.get('https://www.malwarebytes.com/adware')\n",
    "content2 = response2.text\n",
    "site_adware = BeautifulSoup(content2, 'html.parser')\n",
    "\n",
    "#-------------------------------------------------------------------\n",
    "\n",
    "lista_sintomas_adware = site_adware.find('ul', attrs={'type':'disc'})\n",
    "\n",
    "#-------------------------------------------------------------------\n",
    "\n",
    "todos_sintomas_adware = lista_sintomas_adware.findAll('li')\n",
    "\n",
    "#-------------------------------------------------------------------\n",
    "sintoma_01_adware = todos_sintomas_adware[0].text\n",
    "sintoma_02_adware = todos_sintomas_adware[1].text\n",
    "sintoma_03_adware = todos_sintomas_adware[2].text\n",
    "sintoma_04_adware = todos_sintomas_adware[3].text\n",
    "sintoma_05_adware = todos_sintomas_adware[4].text\n",
    "sintoma_06_adware = todos_sintomas_adware[5].text\n",
    "sintoma_07_adware = todos_sintomas_adware[6].text\n",
    "sintoma_08_adware = todos_sintomas_adware[7].text\n",
    "\n",
    "#-------------------------------------------------------------------\n",
    "sintomas_adwares.append([sintoma_01_adware, sintoma_02_adware, sintoma_03_adware, sintoma_04_adware,sintoma_05_adware,\n",
    "                         sintoma_06_adware, sintoma_07_adware,sintoma_08_adware ])\n",
    "\n",
    "#sintomas_adwares"
   ]
  },
  {
   "cell_type": "markdown",
   "id": "96789643-aea5-4488-95b4-e8aeeec7ade7",
   "metadata": {
    "jp-MarkdownHeadingCollapsed": true,
    "tags": []
   },
   "source": [
    "### ***Spayware***"
   ]
  },
  {
   "cell_type": "code",
   "execution_count": 6,
   "id": "80868b63-f4ab-45fb-a0a8-d626cc5fbbb9",
   "metadata": {},
   "outputs": [],
   "source": [
    "#-------------------------------------------------------------------\n",
    "sintomas_spyware.clear()\n",
    "\n",
    "#-------------------------------------------------------------------\n",
    "response3 = requests.get('https://www.malwarebytes.com/spyware')\n",
    "content3 = response3.text\n",
    "site_spyware = BeautifulSoup(content3, 'html.parser')\n",
    "\n",
    "#-------------------------------------------------------------------\n",
    "\n",
    "lista_sintomas_spyware = site_spyware.find('ul', attrs={'type':'disc'})\n",
    "\n",
    "#-------------------------------------------------------------------\n",
    "\n",
    "todos_sintomas_spyware = lista_sintomas_spyware.findAll('strong')\n",
    "\n",
    "#-------------------------------------------------------------------\n",
    "sintoma_01_spyware = todos_sintomas_adware[0].text\n",
    "sintoma_02_spyware = todos_sintomas_adware[2].text\n",
    "sintoma_03_spyware = todos_sintomas_adware[3].text\n",
    "sintoma_04_spyware = todos_sintomas_adware[4].text\n",
    "sintoma_05_spyware = todos_sintomas_adware[6].text\n",
    "sintoma_06_spyware = todos_sintomas_adware[7].text\n",
    "\n",
    "\n",
    "#-------------------------------------------------------------------\n",
    "\n",
    "sintomas_spyware.append([sintoma_01_spyware,sintoma_02_spyware, sintoma_03_spyware, sintoma_04_spyware,sintoma_05_spyware,\n",
    "                         sintoma_06_spyware, \" \", \" \"])\n",
    "\n",
    "#-------------------------------------------------------------------\n",
    "#sintomas_spyware"
   ]
  },
  {
   "cell_type": "markdown",
   "id": "85d4f8f5-555d-4b18-8cbb-0f4f07847793",
   "metadata": {
    "tags": []
   },
   "source": [
    "### ***Phishing***"
   ]
  },
  {
   "cell_type": "code",
   "execution_count": 76,
   "id": "6eb40dc3-4360-42ac-b35d-6c3293487c85",
   "metadata": {},
   "outputs": [],
   "source": [
    "#-------------------------------------------------------------------\n",
    "sintomas_phishing.clear()\n",
    "\n",
    "#-------------------------------------------------------------------\n",
    "response4 = requests.get('https://www.kaspersky.com.br/blog/10-sintomas-de-contaminacao-malware/1114/')\n",
    "content4 = response4.text\n",
    "site_phishing = BeautifulSoup(content4, 'html.parser')\n",
    "#-------------------------------------------------------------------\n",
    "\n",
    "lista_sintomas_phishing = site_phishing.find('div', attrs={'class':'c-wysiwyg'})\n",
    "\n",
    "#-------------------------------------------------------------------\n",
    "\n",
    "todos_sintomas_phishing = lista_sintomas_phishing.findAll('p')\n",
    "\n",
    "#-------------------------------------------------------------------\n",
    "sintoma_01_phishing =  todos_sintomas_phishing[9].text.split(':')[0].split('. ')[1]\n",
    "#Esses sintomas foram elaborados a partir da leitura, dos sites tomados como referência de estudo\n",
    "sintoma_02_phishing = 'Clicar no primeiro link de pesquisa e notar algo de estranho.'\n",
    "sintoma_03_phishing = 'Notar vários erros de ortografia e gramática, enviado de um site aparentemente confiável.'"
   ]
  },
  {
   "cell_type": "markdown",
   "id": "52d69d22-c19e-4db9-8c90-bbd2ac2074e0",
   "metadata": {
    "tags": []
   },
   "source": [
    "### ***Ransomware***"
   ]
  },
  {
   "cell_type": "code",
   "execution_count": 77,
   "id": "339a4ac3-f688-4b81-a910-cad093eb32d3",
   "metadata": {},
   "outputs": [],
   "source": [
    "#------------------------------------------------------------------------------------\n",
    "sintomas_ransomware.clear()\n",
    "\n",
    "#------------------------------------------------------------------------------------\n",
    "#requisição e criação do objeto do tipo BeautifulSoup para o site de busca/estudo de informações de sintomas de Ransomware \n",
    "response5 = requests.get('https://www.kaspersky.com.br/resource-center/threats/ransomware-attacks-and-types')\n",
    "content5 = response5.text\n",
    "site_ransomware = BeautifulSoup(content5, 'html.parser')\n",
    "\n",
    "#------------------------------------------------------------------------------------\n",
    "#Esses sintomas foram elaborados a partir da leitura, dos sites tomados como referência de estudo\n",
    "sintoma_01_ransomware = 'Você perdeu acesso parcial ao teclado, mouse ou touchpad do seu computador.'\n",
    "sintoma_02_ransomware = 'Você não consegue acessar os arquivos do seu disco, mas tem acesso ao teclado, mouse ou touchpad do seu computador.'\n",
    "sintoma_03_ransomware = 'Você recebeu e clicou em um e-mail e após isso, tem uma tela pedindo dinheiro para você.'"
   ]
  },
  {
   "cell_type": "markdown",
   "id": "5c0e4147-a266-427f-9de7-95a1c7c1786a",
   "metadata": {
    "tags": []
   },
   "source": [
    "### ***Explicação dos Rótulos das Colunas e onde é Adicionado os Sintomas dos Malwares***"
   ]
  },
  {
   "cell_type": "code",
   "execution_count": 78,
   "id": "742bfe90-159a-4842-8435-32d327e680e1",
   "metadata": {},
   "outputs": [],
   "source": [
    "#-------------------------------------------------------------------\n",
    "sintomas_malwares.clear()\n",
    "lista_virus.clear()\n",
    "lista_adware.clear()\n",
    "#lista_spyware.clear()\n",
    "# lista_phishing.clear()\n",
    "# lista_ransomware.clear()\n",
    "#-------------------------------------------------------------------\n",
    "\n",
    "#Malware_label_Category (MLC)\n",
    "#Malware_Name (MN)\n",
    "#Malware_Category (MC)\n",
    "\n",
    "sintomas_malwares.append(['MLC','MN','MC',sintoma_01_malware, sintoma_02_malware, sintoma_03_malware, sintoma_04_malware,sintoma_05_malware,\n",
    "                         sintoma_06_malware, sintoma_07_malware, sintoma_08_malware, sintoma_01_adware, sintoma_02_adware, sintoma_03_adware, sintoma_05_adware,\n",
    "                         sintoma_06_adware, sintoma_07_adware,sintoma_03_spyware,sintoma_06_spyware, sintoma_01_phishing, sintoma_02_phishing, sintoma_03_phishing,\n",
    "                         sintoma_01_ransomware, sintoma_02_ransomware, sintoma_03_ransomware])\n",
    "\n",
    "#-------------------------------------------------------------------\n",
    "#categorias de malwares que serão fixas\n",
    "virus = 'Virus'\n",
    "adware = 'Adware' #Colocar como uma linha o Appearch \n",
    "spyware = 'Spyware' #Colocar como uma linha o Gator e bundleware\n",
    "phishing = 'Phishing'\n",
    "ransomware  = 'Ransomware'\n",
    "\n",
    "#-------------------------------------------------------------------\n",
    "# MLC - MN - MC SINTOMAS 01 ATE 08 #lembrar de ajustar os 0 e 1 estão aleatórios\n",
    "\n",
    "lista_virus.append(['1','Stuxnet',virus,1,1,1,1,1,1,1,1,1,1,1,1,1,1,1,1,1,1,1,1,1,1])\n",
    "lista_adware.append(['2','Fireball',adware,1,1,1,1,1,1,1,1,1,1,1,1,1,1,1,1,1,1,1,1,1,1])\n",
    "#lista_spyware.append(['3','Coolwebsearch',spyware,1,1,1,0,1,0,1,0,1,1,1,1,1,1,1,1])\n",
    "# lista_phishing.append(['4','Coolwebsearch',phishing,1,1,1,0,1,0,1,0,1,1,1,1,1,1,1,1])\n",
    "# lista_ransomware.append(['5','Stuxnet',ransomware,1,1,1,0,1,0,1,0,1,1,1,1,1,1,1,1])\n",
    "\n",
    "#-------------------------------------------------------------------\n",
    "#sintomas_malwares"
   ]
  },
  {
   "cell_type": "markdown",
   "id": "3d5059d4-7d8e-44b1-b2fa-955dd1e299bd",
   "metadata": {
    "tags": []
   },
   "source": [
    "### ***Criação do Dataset Geral***"
   ]
  },
  {
   "cell_type": "code",
   "execution_count": 81,
   "id": "94dea56a-a116-4a1c-a297-578ee239b9a8",
   "metadata": {},
   "outputs": [
    {
     "data": {
      "text/html": [
       "<div>\n",
       "<style scoped>\n",
       "    .dataframe tbody tr th:only-of-type {\n",
       "        vertical-align: middle;\n",
       "    }\n",
       "\n",
       "    .dataframe tbody tr th {\n",
       "        vertical-align: top;\n",
       "    }\n",
       "\n",
       "    .dataframe thead th {\n",
       "        text-align: right;\n",
       "    }\n",
       "</style>\n",
       "<table border=\"1\" class=\"dataframe\">\n",
       "  <thead>\n",
       "    <tr style=\"text-align: right;\">\n",
       "      <th></th>\n",
       "      <th>MLC</th>\n",
       "      <th>MN</th>\n",
       "      <th>MC</th>\n",
       "      <th>Your computer slows down.</th>\n",
       "      <th>Your screen is inundated with annoying ads.</th>\n",
       "      <th>Your system crashes.</th>\n",
       "      <th>You notice a mysterious loss of disk space.</th>\n",
       "      <th>There’s a weird increase in your system’s Internet activity.</th>\n",
       "      <th>Your browser settings change.</th>\n",
       "      <th>Your antivirus product stops working</th>\n",
       "      <th>...</th>\n",
       "      <th>New toolbars, extensions, or plugins suddenly populate your browser.</th>\n",
       "      <th>Your Mac starts automatically installing unwanted software applications.</th>\n",
       "      <th>Website links redirect to sites different from what you expected.</th>\n",
       "      <th>Your browser crashes.</th>\n",
       "      <th>Email errático</th>\n",
       "      <th>Clicar no primeiro link de pesquisa e notar algo de estranho.</th>\n",
       "      <th>Notar vários erros de ortografia e gramática, enviado de um site aparentemente confiável.</th>\n",
       "      <th>Você perdeu acesso parcial ao teclado, mouse ou touchpad do seu computador.</th>\n",
       "      <th>Você não consegue acessar os arquivos do seu disco, mas tem acesso ao teclado, mouse ou touchpad do seu computador.</th>\n",
       "      <th>Você recebeu e clicou em um e-mail e após isso, tem uma tela pedindo dinheiro para você.</th>\n",
       "    </tr>\n",
       "  </thead>\n",
       "  <tbody>\n",
       "    <tr>\n",
       "      <th>0</th>\n",
       "      <td>1</td>\n",
       "      <td>Stuxnet</td>\n",
       "      <td>Virus</td>\n",
       "      <td>1</td>\n",
       "      <td>1</td>\n",
       "      <td>1</td>\n",
       "      <td>1</td>\n",
       "      <td>1</td>\n",
       "      <td>1</td>\n",
       "      <td>1</td>\n",
       "      <td>...</td>\n",
       "      <td>1</td>\n",
       "      <td>1</td>\n",
       "      <td>1</td>\n",
       "      <td>1</td>\n",
       "      <td>1</td>\n",
       "      <td>1</td>\n",
       "      <td>1</td>\n",
       "      <td>1</td>\n",
       "      <td>1</td>\n",
       "      <td>1</td>\n",
       "    </tr>\n",
       "    <tr>\n",
       "      <th>1</th>\n",
       "      <td>2</td>\n",
       "      <td>Fireball</td>\n",
       "      <td>Adware</td>\n",
       "      <td>1</td>\n",
       "      <td>1</td>\n",
       "      <td>1</td>\n",
       "      <td>1</td>\n",
       "      <td>1</td>\n",
       "      <td>1</td>\n",
       "      <td>1</td>\n",
       "      <td>...</td>\n",
       "      <td>1</td>\n",
       "      <td>1</td>\n",
       "      <td>1</td>\n",
       "      <td>1</td>\n",
       "      <td>1</td>\n",
       "      <td>1</td>\n",
       "      <td>1</td>\n",
       "      <td>1</td>\n",
       "      <td>1</td>\n",
       "      <td>1</td>\n",
       "    </tr>\n",
       "  </tbody>\n",
       "</table>\n",
       "<p>2 rows × 25 columns</p>\n",
       "</div>"
      ],
      "text/plain": [
       "  MLC        MN      MC  Your computer slows down.  \\\n",
       "0   1   Stuxnet   Virus                          1   \n",
       "1   2  Fireball  Adware                          1   \n",
       "\n",
       "   Your screen is inundated with annoying ads.  Your system crashes.   \\\n",
       "0                                            1                      1   \n",
       "1                                            1                      1   \n",
       "\n",
       "   You notice a mysterious loss of disk space.  \\\n",
       "0                                            1   \n",
       "1                                            1   \n",
       "\n",
       "   There’s a weird increase in your system’s Internet activity.  \\\n",
       "0                                                             1   \n",
       "1                                                             1   \n",
       "\n",
       "   Your browser settings change.  Your antivirus product stops working  ...  \\\n",
       "0                              1                                     1  ...   \n",
       "1                              1                                     1  ...   \n",
       "\n",
       "   New toolbars, extensions, or plugins suddenly populate your browser.  \\\n",
       "0                                                                     1   \n",
       "1                                                                     1   \n",
       "\n",
       "   Your Mac starts automatically installing unwanted software applications.  \\\n",
       "0                                                                         1   \n",
       "1                                                                         1   \n",
       "\n",
       "   Website links redirect to sites different from what you expected.  \\\n",
       "0                                                                  1   \n",
       "1                                                                  1   \n",
       "\n",
       "   Your browser crashes.  Email errático  \\\n",
       "0                      1               1   \n",
       "1                      1               1   \n",
       "\n",
       "   Clicar no primeiro link de pesquisa e notar algo de estranho.  \\\n",
       "0                                                              1   \n",
       "1                                                              1   \n",
       "\n",
       "   Notar vários erros de ortografia e gramática, enviado de um site aparentemente confiável.  \\\n",
       "0                                                                                          1   \n",
       "1                                                                                          1   \n",
       "\n",
       "   Você perdeu acesso parcial ao teclado, mouse ou touchpad do seu computador.  \\\n",
       "0                                                                            1   \n",
       "1                                                                            1   \n",
       "\n",
       "   Você não consegue acessar os arquivos do seu disco, mas tem acesso ao teclado, mouse ou touchpad do seu computador.  \\\n",
       "0                                                                                                                    1   \n",
       "1                                                                                                                    1   \n",
       "\n",
       "   Você recebeu e clicou em um e-mail e após isso, tem uma tela pedindo dinheiro para você.  \n",
       "0                                                                                         1  \n",
       "1                                                                                         1  \n",
       "\n",
       "[2 rows x 25 columns]"
      ]
     },
     "execution_count": 81,
     "metadata": {},
     "output_type": "execute_result"
    }
   ],
   "source": [
    "#adicionando no DataFrame principal\n",
    "for sintoma in sintomas_malwares:\n",
    "    \n",
    "    colunas = [sintoma[0], sintoma[1], sintoma[2], sintoma[3], sintoma[4], sintoma[5], sintoma[6], sintoma[7], sintoma[8], sintoma[9], sintoma[10],\n",
    "            sintoma[11],sintoma[12],sintoma[13],sintoma[14],sintoma[15],sintoma[16],sintoma[17],sintoma[18], sintoma[19], sintoma[20],sintoma[21],\n",
    "            sintoma[22], sintoma[23],sintoma[24]]\n",
    "    \n",
    "    data = pd.DataFrame(data = lista_virus, columns = colunas)\n",
    "    data2 = pd.DataFrame(data = lista_adware, columns = colunas)\n",
    "\n",
    "#PAREI AQUI, VERIFICA SE ADICIONA AS COLUNAS DE PHISHING E RANSOMWARE\n",
    "    \n",
    "pd.options.display.max_colwidth = 5000\n",
    "data_geral = pd.concat((data,data2),ignore_index=True)\n",
    "data_geral"
   ]
  },
  {
   "cell_type": "markdown",
   "id": "ea8fa463-a77d-4431-9403-9cef2ed49456",
   "metadata": {
    "jp-MarkdownHeadingCollapsed": true,
    "tags": []
   },
   "source": [
    "### ***Estrutura do Dataset***"
   ]
  },
  {
   "cell_type": "code",
   "execution_count": null,
   "id": "9edb9f33-6008-4bba-a7e7-2d1812c9ddda",
   "metadata": {},
   "outputs": [],
   "source": [
    "# MLC      MN      MC  sintoma01, sintoma02, sintoma03, sintoma04, sintoma05, sintoma06, sintoma07, sintoma08  [1='malware',2='adware',3='Spyware',4='Phishing',5='TrickBot']\n",
    "#  1\tStuxnet\t  Virus    1\t   1\t       1\t      1 \t       1\t       1\t     1\t      1"
   ]
  },
  {
   "cell_type": "markdown",
   "id": "67e06cd2-b9b9-4b87-96b3-bdafa3fb33e5",
   "metadata": {
    "tags": []
   },
   "source": [
    "### ***Rascunhos***"
   ]
  },
  {
   "cell_type": "code",
   "execution_count": null,
   "id": "9f119d5f-2b7b-4680-b816-1c684ede4d1a",
   "metadata": {},
   "outputs": [],
   "source": [
    "# translator = Translator()\n",
    "\n",
    "# sintomas_translater = []\n",
    "\n",
    "# for sintoma in sintomas_malwares[0]:\n",
    "#     sintomas_translater.append(sintoma)\n",
    "    \n",
    "# sintomas_translater.remove('MLC')\n",
    "# sintomas_translater.remove('MN')\n",
    "# sintomas_translater.remove('MC')\n",
    "\n",
    "# translations = translator.translate(sintomas_translater, src='en', dest='pt')\n",
    "\n",
    "# #adicionando no DataFrame principal\n",
    "# for sintoma in sintomas_malwares:\n",
    "# data = pd.DataFrame(columns = [sintoma[0], sintoma[1], sintoma[2], sintoma[3], sintoma[4], sintoma[5],sintoma[6], sintoma[7], sintoma[8], sintoma[9],sintoma[10]])\n",
    "\n",
    "# pd.options.display.max_colwidth = 5000\n",
    "# data"
   ]
  },
  {
   "cell_type": "markdown",
   "id": "969a38f1-a42b-496b-857e-a1b13d0a3ce5",
   "metadata": {},
   "source": [
    "### ***Sites de Referências para estudos dos Malwares e criação dos Atributos***\n",
    "- https://www.trendmicro.com/pt_br/what-is/phishing/types-of-phishing.html\n",
    "- https://www.kaspersky.com.br/resource-center/threats/types-of-malware\n",
    "- https://www.kaspersky.com.br/resource-center/threats/ransomware-attacks-and-types\n",
    "- https://coopersystem.com.br/o-que-e-phishing-como-ocorre-tipos-e-exemplos-de-phishing/\n",
    "- https://www.trendmicro.com/pt_br/what-is/phishing/types-of-phishing.html\n"
   ]
  }
 ],
 "metadata": {
  "kernelspec": {
   "display_name": "Python 3 (ipykernel)",
   "language": "python",
   "name": "python3"
  },
  "language_info": {
   "codemirror_mode": {
    "name": "ipython",
    "version": 3
   },
   "file_extension": ".py",
   "mimetype": "text/x-python",
   "name": "python",
   "nbconvert_exporter": "python",
   "pygments_lexer": "ipython3",
   "version": "3.9.12"
  }
 },
 "nbformat": 4,
 "nbformat_minor": 5
}
